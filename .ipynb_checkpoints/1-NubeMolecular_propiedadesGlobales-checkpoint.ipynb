{
 "cells": [
  {
   "cell_type": "markdown",
   "metadata": {},
   "source": [
    "# Taller S.O.S. (Software de Observaciones Sintéticas)"
   ]
  },
  {
   "cell_type": "markdown",
   "metadata": {},
   "source": [
    "## Simulaciones numéricas como laboratorios virtuales: conectando teoría y observaciones\n",
    "### Documentación próximamente disponible en [link](https://github.com/MarcialX/sos)."
   ]
  },
  {
   "cell_type": "markdown",
   "metadata": {},
   "source": [
    "### Este código analiza los cubos de datos simulados de una nube filamentaria, y a partir de observaciones de $^{12}$CO, $^{13}$CO y C$^{18}$O se obtienen propiedades físicas de una Nube Molecular prototipo."
   ]
  },
  {
   "cell_type": "markdown",
   "metadata": {},
   "source": [
    "## Parte 1: Propiedades globales de la Nube Molecular:\n",
    "\n",
    "Las masas de las nubes moleculares se pueden calcular usando tres diferentes métodos:\n",
    "\n",
    "* Masa calculada mediante el Teorema Virial, $M_{\\rm vir}$:\n",
    "\n",
    "$\\Big[ \\frac{M_{\\rm vir}}{10^4 \\, M_\\odot} \\Big] = 1.58 \\times \\Big[ \\frac{R_e}{5 \\, {\\rm pc}} \\Big] \\times \\Big[ \\frac{\\Delta v}{5 \\, {\\rm km \\, s^{-1}}} \\Big]^2$, donde $R_e$ es el radio de la nube y $\\Delta v$ el ancho de línea.\n",
    "\n",
    "* Masa calculada con la densidad de columna, $N (^{13}{\\rm CO})$, o método ETL, $M_{\\rm ETL}$:\n",
    "\n",
    "$\\Big[ \\frac{M_{\\rm ETL}}{10^4 \\, M_\\odot} \\Big] = 3.25 \\times \\Big[ \\frac{R_e}{5 \\, {\\rm pc}} \\Big]^2 \\times \\Big[ \\frac{N (^{13}{\\rm CO})}{10^{17} \\, {\\rm cm}^{-2}} \\Big]$. \n",
    "\n",
    "* Masa calculada mediante el factor de conversión ($XF = 2.8 \\times 10^{20} {\\rm \\, cm^{-2} \\, K^{-1} \\, km^{-1} \\, s }$), $M_{\\rm XF}$:\n",
    "\n",
    "$\\Big[ \\frac{M_{\\rm XF}}{10^4 \\, M_\\odot} \\Big] = 3.26 \\times \\Big[ \\frac{R_e}{5 \\, {\\rm pc}} \\Big]^2 \\times \\Big[ \\frac{W (^{13}{\\rm CO})}{5 \\, {\\rm K \\, km \\, s^{-1}}} \\Big]$, \n",
    "\n",
    "donde $W (^{13}{\\rm CO})$ es la luminosidad de la línea $^{13}{\\rm CO}$ que se ralaciona con el factor X y la densidad de columna del hidrógeno molecular, $N({\\rm H}_2)$, de la forma $XF \\equiv N({\\rm H}_2) / W (^{13}{\\rm CO})$. \n",
    "\n",
    "Ver el artículo de [Ricardo Retes-Romero y colaboradores (2017)](https://ui.adsabs.harvard.edu/abs/2017ApJ...839..113R/abstract) para una explicación más detallada.\n",
    "\n",
    "***\n",
    "\n"
   ]
  },
  {
   "cell_type": "markdown",
   "metadata": {},
   "source": [
    "### De ser necesario, nos cambiamos al directorio de trabajo:"
   ]
  },
  {
   "cell_type": "code",
   "execution_count": null,
   "metadata": {},
   "outputs": [],
   "source": [
    "#import os\n",
    "#os.chdir(\"/ruta/al/paquete/sos\")"
   ]
  },
  {
   "cell_type": "markdown",
   "metadata": {},
   "source": [
    "### Importamos el paquete sos:"
   ]
  },
  {
   "cell_type": "code",
   "execution_count": null,
   "metadata": {},
   "outputs": [],
   "source": [
    "import sos"
   ]
  },
  {
   "cell_type": "markdown",
   "metadata": {},
   "source": [
    "### Especificamos las rutas a los cubos de datos de una Nube Molecular (p.e., TaurusMC)"
   ]
  },
  {
   "cell_type": "code",
   "execution_count": null,
   "metadata": {},
   "outputs": [],
   "source": [
    "#db = sos.mc_db_tools.mc_db(sos.DB_PATH)\n",
    "#db.get_mc_params('TaurusMC')"
   ]
  },
  {
   "cell_type": "markdown",
   "metadata": {},
   "source": [
    "### De ser necesario, cargamos los cubos de datos (PPV) manualmente:"
   ]
  },
  {
   "cell_type": "code",
   "execution_count": null,
   "metadata": {},
   "outputs": [],
   "source": [
    "#db.path13CO = './sos/data_cube/filament_13co_YZ_Jansky-per-px.fits'\n",
    "#db.path12CO = './sos/data_cube/filament_12co_YZ_Jansky-per-px.fits'\n",
    "#db.pathC18O = './sos/data_cube/filament_c18o_YZ_Jansky-per-px.fits'"
   ]
  },
  {
   "cell_type": "markdown",
   "metadata": {},
   "source": [
    "### Creamos ahora el objeto \"mc\", usando su identificador (p.ej., TaurusMC):"
   ]
  },
  {
   "cell_type": "code",
   "execution_count": null,
   "metadata": {},
   "outputs": [],
   "source": [
    "mc = sos.mc('TaurusMC')"
   ]
  },
  {
   "cell_type": "markdown",
   "metadata": {},
   "source": [
    "### Objetos disponibles en la base de datos de SOS:"
   ]
  },
  {
   "cell_type": "code",
   "execution_count": null,
   "metadata": {},
   "outputs": [],
   "source": [
    "db_objs = sos.mc_db(sos.DB_PATH) \n",
    "db_objs.mc_db.keys()"
   ]
  },
  {
   "cell_type": "markdown",
   "metadata": {},
   "source": [
    "### Creamos los mapas integrados en velocidad de las lineas moleculares disponibles ($^{12}$CO, $^{13}$CO y C$^{18}$O)"
   ]
  },
  {
   "cell_type": "code",
   "execution_count": null,
   "metadata": {},
   "outputs": [],
   "source": [
    "mc.get_map_vels()"
   ]
  },
  {
   "cell_type": "markdown",
   "metadata": {},
   "source": [
    "### Creamos los mapas de momento cero M0"
   ]
  },
  {
   "cell_type": "code",
   "execution_count": null,
   "metadata": {},
   "outputs": [],
   "source": [
    "sos.msg('Molécula 13CO', 'ok')\n",
    "m0_data_13co, m0_header_13co = mc.M0('13CO', save=True)\n",
    "sos.msg('Molécula 12CO', 'ok')\n",
    "m0_data_12co, m0_header_12co = mc.M0('12CO', save=True)\n",
    "sos.msg('Molécula C18O', 'ok')\n",
    "m0_data_c18o, m0_header_c18o = mc.M0('C18O', save=True)"
   ]
  },
  {
   "cell_type": "markdown",
   "metadata": {},
   "source": [
    "## Nube molecular completa. Modo FULL"
   ]
  },
  {
   "cell_type": "markdown",
   "metadata": {},
   "source": [
    "### Ajustamos las lineas de emision de las moleculas integradas por toda la longitud y latitud:"
   ]
  },
  {
   "cell_type": "code",
   "execution_count": null,
   "metadata": {},
   "outputs": [],
   "source": [
    "mc.line_fit('13CO', iter=True)\n",
    "mc.line_fit('12CO', iter=True)"
   ]
  },
  {
   "cell_type": "markdown",
   "metadata": {},
   "source": [
    "### Calculamos los parametros fisicos de las nubes, como sus masas y densidades columnares. Las masas se calculan por los tres métodos mencionados arriba:"
   ]
  },
  {
   "cell_type": "code",
   "execution_count": null,
   "metadata": {},
   "outputs": [],
   "source": [
    "mc.get_gral_params()"
   ]
  },
  {
   "cell_type": "markdown",
   "metadata": {},
   "source": [
    "### Desplegamos resultados:"
   ]
  },
  {
   "cell_type": "code",
   "execution_count": null,
   "metadata": {},
   "outputs": [],
   "source": [
    "mc.summary()"
   ]
  },
  {
   "cell_type": "markdown",
   "metadata": {},
   "source": [
    "## Nube molecular segmentada. Modo segmentado o bin"
   ]
  },
  {
   "cell_type": "markdown",
   "metadata": {},
   "source": [
    "### Dividimos los mapas de todas las moléculas: $^{13}$CO, $^{12}$CO y C$^{18}$O de la nube, en NxN bines:"
   ]
  },
  {
   "cell_type": "markdown",
   "metadata": {},
   "source": [
    "### La primera segmentación requiere que 'rebin'=True"
   ]
  },
  {
   "cell_type": "code",
   "execution_count": null,
   "metadata": {},
   "outputs": [],
   "source": [
    "mc.binning_mol('13CO', 16, rebin=True)"
   ]
  },
  {
   "cell_type": "markdown",
   "metadata": {},
   "source": [
    "### El resto ya no lo requiere"
   ]
  },
  {
   "cell_type": "code",
   "execution_count": null,
   "metadata": {},
   "outputs": [],
   "source": [
    "mc.binning_mol('12CO', 16)\n",
    "mc.binning_mol('C18O', 16)"
   ]
  },
  {
   "cell_type": "markdown",
   "metadata": {},
   "source": [
    "### Ajustamos las lineas para cada bin"
   ]
  },
  {
   "cell_type": "code",
   "execution_count": null,
   "metadata": {},
   "outputs": [],
   "source": [
    "mc.line_fit_binning('13CO')\n",
    "mc.line_fit_binning('12CO')"
   ]
  },
  {
   "cell_type": "markdown",
   "metadata": {},
   "source": [
    "### Calculamos los parámetros físicos por cada bin"
   ]
  },
  {
   "cell_type": "code",
   "execution_count": null,
   "metadata": {},
   "outputs": [],
   "source": [
    "mc.get_bins_params()"
   ]
  },
  {
   "cell_type": "code",
   "execution_count": null,
   "metadata": {},
   "outputs": [],
   "source": [
    "mc.mc_binned['B135']['mass_lte']"
   ]
  },
  {
   "cell_type": "code",
   "execution_count": null,
   "metadata": {},
   "outputs": [],
   "source": [
    "mc.mc_binned['B135'].keys()"
   ]
  },
  {
   "cell_type": "markdown",
   "metadata": {},
   "source": [
    "### Veamos como lucen las líneas de alguna de las moléculas ($^{13}$CO) por cada bin:"
   ]
  },
  {
   "cell_type": "code",
   "execution_count": null,
   "metadata": {},
   "outputs": [],
   "source": [
    "mc_binned = mc.mc_binned\n",
    "plt = sos.mc_plotter(mc_binned, m0_data_13co, m0_header_13co)\n",
    "plt.plot_m0_line('13CO')"
   ]
  },
  {
   "cell_type": "markdown",
   "metadata": {},
   "source": [
    "### Podemos crear un mapa de calor con las propiedades físicas en cada bin. Por ejemplo $M_{\\rm LTE}$:"
   ]
  },
  {
   "cell_type": "code",
   "execution_count": null,
   "metadata": {},
   "outputs": [],
   "source": [
    "plt.map_param('mass_lte', cmap='Blues', log=False)"
   ]
  },
  {
   "cell_type": "markdown",
   "metadata": {},
   "source": [
    "### Respaldemos los datos para la siguiente sección:"
   ]
  },
  {
   "cell_type": "code",
   "execution_count": null,
   "metadata": {},
   "outputs": [],
   "source": [
    "mc.backup('Parte_1')"
   ]
  },
  {
   "cell_type": "markdown",
   "metadata": {},
   "source": [
    "### Para cargar el respaldo:"
   ]
  },
  {
   "cell_type": "code",
   "execution_count": null,
   "metadata": {},
   "outputs": [],
   "source": [
    "mc.load_bkp('./sos/bkp/Parte_1/')"
   ]
  }
 ],
 "metadata": {
  "kernelspec": {
   "display_name": "Python 3",
   "language": "python",
   "name": "python3"
  },
  "language_info": {
   "codemirror_mode": {
    "name": "ipython",
    "version": 3
   },
   "file_extension": ".py",
   "mimetype": "text/x-python",
   "name": "python",
   "nbconvert_exporter": "python",
   "pygments_lexer": "ipython3",
   "version": "3.8.3"
  }
 },
 "nbformat": 4,
 "nbformat_minor": 4
}
