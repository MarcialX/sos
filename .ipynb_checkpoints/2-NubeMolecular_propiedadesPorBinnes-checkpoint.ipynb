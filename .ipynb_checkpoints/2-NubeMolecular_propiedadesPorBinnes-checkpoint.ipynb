{
 "cells": [
  {
   "cell_type": "markdown",
   "metadata": {},
   "source": [
    "# Taller S.O.S. (Software de Observaciones Sintéticas)"
   ]
  },
  {
   "cell_type": "markdown",
   "metadata": {},
   "source": [
    "## Simulaciones numéricas como laboratorios virtuales: conectando teoría y observaciones\n",
    "### Consulta la documentación en este [link](https://github.com/MarcialX/sos)."
   ]
  },
  {
   "cell_type": "markdown",
   "metadata": {},
   "source": [
    "### Este código analiza los cubos de datos simulados de una nube filamentaria, y a partir de observaciones de $^{12}$CO, $^{13}$CO y C$^{18}$O se obtienen propiedades físicas de una Nube Molecular prototipo."
   ]
  },
  {
   "cell_type": "markdown",
   "metadata": {},
   "source": [
    "## Instrucciones para correr S.O.S.:"
   ]
  },
  {
   "cell_type": "markdown",
   "metadata": {},
   "source": [
    "## Parte 2: Propiedades locales (por binnes) de la Nube Molecular:\n",
    "\n",
    "Las masas de las nubes moleculares se pueden calcular usando tres diferentes métodos:\n",
    "\n",
    "* Masa calculada mediante el Teorema Virial, $M_{\\rm vir}$:\n",
    "\n",
    "$\\Big[ \\frac{M_{\\rm vir}}{10^4 \\, M_\\odot} \\Big] = 1.58 \\times \\Big[ \\frac{R_e}{5 \\, {\\rm pc}} \\Big] \\times \\Big[ \\frac{\\Delta v}{5 \\, {\\rm km \\, s^{-1}}} \\Big]^2$, donde $R_e$ es el radio de la nube y $\\Delta v$ el ancho de línea.\n",
    "\n",
    "* Masa calculada con la densidad de columna, $N (^{13}{\\rm CO})$, o método ETL, $M_{\\rm ETL}$:\n",
    "\n",
    "$\\Big[ \\frac{M_{\\rm ETL}}{10^4 \\, M_\\odot} \\Big] = 3.25 \\times \\Big[ \\frac{R_e}{5 \\, {\\rm pc}} \\Big]^2 \\times \\Big[ \\frac{N (^{13}{\\rm CO})}{10^{17} \\, {\\rm cm}^{-2}} \\Big]$. \n",
    "\n",
    "* Masa calculada mediante el factor de conversión ($XF = 2.8 \\times 10^{20} {\\rm \\, cm^{-2} \\, K^{-1} \\, km^{-1} \\, s }$), $M_{\\rm XF}$:\n",
    "\n",
    "$\\Big[ \\frac{M_{\\rm XF}}{10^4 \\, M_\\odot} \\Big] = 3.26 \\times \\Big[ \\frac{R_e}{5 \\, {\\rm pc}} \\Big]^2 \\times \\Big[ \\frac{W (^{13}{\\rm CO})}{5 \\, {\\rm K \\, km \\, s^{-1}}} \\Big]$, \n",
    "\n",
    "donde $W (^{13}{\\rm CO})$ es la luminosidad de la línea $^{13}{\\rm CO}$ que se ralaciona con el factor X y la densidad de columna del hidrógeno molecular, $N({\\rm H}_2)$, de la forma $XF \\equiv N({\\rm H}_2) / W (^{13}{\\rm CO})$. \n",
    "\n",
    "Ver el artículo de [Ricardo Retes-Romero y colaboradores (2017)](https://ui.adsabs.harvard.edu/abs/2017ApJ...839..113R/abstract) para una explicación más detallada.\n",
    "\n",
    "***\n"
   ]
  },
  {
   "cell_type": "markdown",
   "metadata": {},
   "source": [
    "### De ser necesario, nos cambiamos al directorio de trabajo:"
   ]
  },
  {
   "cell_type": "code",
   "execution_count": null,
   "metadata": {},
   "outputs": [],
   "source": [
    "#import os\n",
    "#os.chdir(\"/ruta/al/paquete/sos\")"
   ]
  },
  {
   "cell_type": "markdown",
   "metadata": {},
   "source": [
    "### De ser necesario, cargamos un respaldo:"
   ]
  },
  {
   "cell_type": "code",
   "execution_count": null,
   "metadata": {},
   "outputs": [],
   "source": [
    "#mc.load_bkp('./sos/bkp/TaurusMC_270920_225851_bkp/')"
   ]
  },
  {
   "cell_type": "markdown",
   "metadata": {},
   "source": [
    "### Importamos el paquete sos:"
   ]
  },
  {
   "cell_type": "code",
   "execution_count": null,
   "metadata": {},
   "outputs": [],
   "source": [
    "import sos"
   ]
  },
  {
   "cell_type": "markdown",
   "metadata": {},
   "source": [
    "### Creamos la nube molecular prototipo:"
   ]
  },
  {
   "cell_type": "code",
   "execution_count": null,
   "metadata": {},
   "outputs": [],
   "source": [
    "mc = sos.mc('TaurusMC')"
   ]
  },
  {
   "cell_type": "markdown",
   "metadata": {},
   "source": [
    "### Creamos los mapas integrados en velocidad de las lineas moleculares disponibles ($^{12}$CO, $^{13}$CO y C$^{18}$O):"
   ]
  },
  {
   "cell_type": "code",
   "execution_count": null,
   "metadata": {},
   "outputs": [],
   "source": [
    "mc.get_map_vels()"
   ]
  },
  {
   "cell_type": "markdown",
   "metadata": {},
   "source": [
    "### Ajustamos las lineas de emision de las moleculas para toda la nube y obtenemos el promedio:"
   ]
  },
  {
   "cell_type": "code",
   "execution_count": null,
   "metadata": {},
   "outputs": [],
   "source": [
    "#mc.line_fit('13CO', iter=False)\n",
    "# Para hacer los ajustes de manera iterativa (no funciona con jupyter-notebook):\n",
    "#mc.line_fit('13CO', iter=True)"
   ]
  },
  {
   "cell_type": "code",
   "execution_count": null,
   "metadata": {},
   "outputs": [],
   "source": [
    "#mc.line_fit('12CO')"
   ]
  },
  {
   "cell_type": "markdown",
   "metadata": {},
   "source": [
    "### Calculamos los parametros fisicos de las nubes, como sus masas y densidades columnares. Las masas se calculan por los tres métodos mencionados arriba:"
   ]
  },
  {
   "cell_type": "code",
   "execution_count": null,
   "metadata": {},
   "outputs": [],
   "source": [
    "#mc.get_gral_params()"
   ]
  },
  {
   "cell_type": "markdown",
   "metadata": {},
   "source": [
    "### Desplegamos resultados:"
   ]
  },
  {
   "cell_type": "code",
   "execution_count": null,
   "metadata": {},
   "outputs": [],
   "source": [
    "#mc.summary()"
   ]
  },
  {
   "cell_type": "markdown",
   "metadata": {},
   "source": [
    "### Dividimos los mapas de $^{12}$CO y $^{12}$CO de la nube en NxN bines:"
   ]
  },
  {
   "cell_type": "code",
   "execution_count": null,
   "metadata": {},
   "outputs": [],
   "source": [
    "mc.binning_mol('13CO', 4, rebin=True)\n",
    "mc.binning_mol('12CO', 4)"
   ]
  },
  {
   "cell_type": "markdown",
   "metadata": {},
   "source": [
    "### Promediamos y ajustamos las lineas en cada bin: "
   ]
  },
  {
   "cell_type": "code",
   "execution_count": null,
   "metadata": {},
   "outputs": [],
   "source": [
    "mc.line_fit_binning('13CO')\n",
    "mc.line_fit_binning('12CO')"
   ]
  },
  {
   "cell_type": "markdown",
   "metadata": {},
   "source": [
    "### Obtenemos parámetros promedio en cada bin:"
   ]
  },
  {
   "cell_type": "code",
   "execution_count": null,
   "metadata": {},
   "outputs": [],
   "source": [
    "mc.get_bins_params()"
   ]
  },
  {
   "cell_type": "code",
   "execution_count": null,
   "metadata": {},
   "outputs": [],
   "source": [
    "### Podemos imprimir propiedades de los bines:"
   ]
  },
  {
   "cell_type": "code",
   "execution_count": null,
   "metadata": {},
   "outputs": [],
   "source": [
    "#mc.mc_binned.keys()\n",
    "#mc.mc_binned['B0']"
   ]
  },
  {
   "cell_type": "markdown",
   "metadata": {},
   "source": [
    "### Graficamos las líneas por bin sobre el mapa de $^{13}$CO:"
   ]
  },
  {
   "cell_type": "code",
   "execution_count": null,
   "metadata": {},
   "outputs": [],
   "source": [
    "mc_binned = mc.mc_binned\n",
    "m0_data, m0_header = mc.M0('13CO', save=True) #Crea las imagnens en .figs\n",
    "plt = sos.mc_plotter(mc_binned, m0_data, m0_header)\n",
    "plt.plot_m0_line('13CO') #label=True"
   ]
  },
  {
   "cell_type": "markdown",
   "metadata": {},
   "source": [
    "### Para ajustar líneas en un cierto bin manualmente:"
   ]
  },
  {
   "cell_type": "code",
   "execution_count": null,
   "metadata": {},
   "outputs": [],
   "source": [
    "#mc.interactive_mode('binned', '13CO','B9')\n",
    "##plt.plot_m0_line?"
   ]
  },
  {
   "cell_type": "markdown",
   "metadata": {},
   "source": [
    "### Graficamos propiedades físicas en cada bin ($M_{\\rm ETL}$):"
   ]
  },
  {
   "cell_type": "code",
   "execution_count": null,
   "metadata": {},
   "outputs": [],
   "source": [
    "#mc.get_bins_params()\n",
    "plt.map_param('mass_lte', cmap='Blues')"
   ]
  },
  {
   "cell_type": "markdown",
   "metadata": {},
   "source": [
    "### Generamos un respaldo (checkpoint):"
   ]
  },
  {
   "cell_type": "code",
   "execution_count": null,
   "metadata": {},
   "outputs": [],
   "source": [
    "mc.backup()"
   ]
  },
  {
   "cell_type": "markdown",
   "metadata": {},
   "source": [
    "### Para cargar el respaldo:"
   ]
  },
  {
   "cell_type": "code",
   "execution_count": null,
   "metadata": {},
   "outputs": [],
   "source": [
    "#mc.load_bkp('./sos/bkp/TaurusMC_270920_225851_bkp/')"
   ]
  }
 ],
 "metadata": {
  "kernelspec": {
   "display_name": "Python 3",
   "language": "python",
   "name": "python3"
  },
  "language_info": {
   "codemirror_mode": {
    "name": "ipython",
    "version": 3
   },
   "file_extension": ".py",
   "mimetype": "text/x-python",
   "name": "python",
   "nbconvert_exporter": "python",
   "pygments_lexer": "ipython3",
   "version": "3.7.4"
  }
 },
 "nbformat": 4,
 "nbformat_minor": 2
}
