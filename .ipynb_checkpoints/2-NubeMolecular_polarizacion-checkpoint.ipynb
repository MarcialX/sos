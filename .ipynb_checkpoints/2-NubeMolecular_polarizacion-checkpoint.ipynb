{
 "cells": [
  {
   "cell_type": "markdown",
   "metadata": {},
   "source": [
    "# Taller S.O.S. (Software de Observaciones Sintéticas)"
   ]
  },
  {
   "cell_type": "markdown",
   "metadata": {},
   "source": [
    "## Simulaciones numéricas como laboratorios virtuales: conectando teoría y observaciones\n",
    "### Documentación próximamente disponible en [link](https://github.com/MarcialX/sos)."
   ]
  },
  {
   "cell_type": "markdown",
   "metadata": {},
   "source": [
    "### Este código analiza los cubos de datos simulados de una nube filamentaria, y a partir de observaciones de $^{12}$CO, $^{13}$CO y C$^{18}$O se obtienen propiedades físicas de una Nube Molecular prototipo."
   ]
  },
  {
   "cell_type": "markdown",
   "metadata": {},
   "source": [
    "## Instrucciones para correr S.O.S.:"
   ]
  },
  {
   "cell_type": "markdown",
   "metadata": {},
   "source": [
    "## Parte 2: Medición del Campo Magnético (en binnes) de la Nube Molecular:\n",
    "\n",
    "El Campo Magnético ($B_{\\rm pos}$) por el método de Chandrasekhar-Fermi esta dado por\n",
    "\n",
    "$B_{\\rm pos} \\simeq 9.3 \\sqrt{n({\\rm H}_2)} \\frac{\\Delta v}{\\sigma_\\theta} \\, \\mu {\\rm G}$\n",
    "\n",
    "Donde $n({\\rm H}_2)$ es la densidad numérica del gas, $\\Delta v$ es el ancho de línea de la molécula $^{13}$CO y $\\sigma_\\theta$ es la dispersión de los ángulos de polarización."
   ]
  },
  {
   "cell_type": "markdown",
   "metadata": {},
   "source": [
    "### De ser necesario, nos cambiamos al directorio de trabajo:"
   ]
  },
  {
   "cell_type": "code",
   "execution_count": null,
   "metadata": {},
   "outputs": [],
   "source": [
    "#import os\n",
    "#os.chdir(\"/ruta/al/paquete/sos\")"
   ]
  },
  {
   "cell_type": "markdown",
   "metadata": {},
   "source": [
    "### Importamos el paquete sos:"
   ]
  },
  {
   "cell_type": "code",
   "execution_count": null,
   "metadata": {},
   "outputs": [],
   "source": [
    "import sos"
   ]
  },
  {
   "cell_type": "code",
   "execution_count": null,
   "metadata": {},
   "outputs": [],
   "source": [
    "## Creamos la nube molecular\n",
    "mc = sos.mc('TaurusMC')"
   ]
  },
  {
   "cell_type": "markdown",
   "metadata": {},
   "source": [
    "### Cargamos el respaldo de la sección anterior:"
   ]
  },
  {
   "cell_type": "code",
   "execution_count": null,
   "metadata": {},
   "outputs": [],
   "source": [
    "mc.load_bkp('./sos/bkp/Parte_1/')"
   ]
  },
  {
   "cell_type": "markdown",
   "metadata": {},
   "source": [
    "## Dispersión de los ángulos de polarización"
   ]
  },
  {
   "cell_type": "markdown",
   "metadata": {},
   "source": [
    "### Obtenemos los parámetros de Stokes I,Q,U,V:"
   ]
  },
  {
   "cell_type": "code",
   "execution_count": null,
   "metadata": {},
   "outputs": [],
   "source": [
    "mc.get_pol_params()"
   ]
  },
  {
   "cell_type": "markdown",
   "metadata": {},
   "source": [
    "### Se crean los bines de polarización. Como se retoma la división hecha con las moléculas, 'rebin'=False"
   ]
  },
  {
   "cell_type": "code",
   "execution_count": null,
   "metadata": {},
   "outputs": [],
   "source": [
    "mc.binning_pol(rebin=False)"
   ]
  },
  {
   "cell_type": "markdown",
   "metadata": {},
   "source": [
    "### Graficamos ángulos y grados de polarización"
   ]
  },
  {
   "cell_type": "code",
   "execution_count": null,
   "metadata": {},
   "outputs": [],
   "source": [
    "mc_binned = mc.mc_binned\n",
    "m0_data_13co, m0_header_13co = mc.M0('13CO', save=True)\n",
    "plt = sos.mc_plotter(mc_binned, m0_data_13co, m0_header_13co)\n",
    "plt.map_param('pol_angle_mean', cmap='gist_gray', log=False)\n",
    "plt.map_param('pol_angle_std', cmap='gist_gray', log=False)"
   ]
  },
  {
   "cell_type": "markdown",
   "metadata": {},
   "source": [
    "## Densidad volumétrica"
   ]
  },
  {
   "cell_type": "markdown",
   "metadata": {},
   "source": [
    "### Obtenemos la densidad volumétrica de cada bin:"
   ]
  },
  {
   "cell_type": "code",
   "execution_count": null,
   "metadata": {},
   "outputs": [],
   "source": [
    "mc.get_vol_den('mass_lte', 'binned')"
   ]
  },
  {
   "cell_type": "markdown",
   "metadata": {},
   "source": [
    "### Graficamos la densidad volumétrica"
   ]
  },
  {
   "cell_type": "code",
   "execution_count": null,
   "metadata": {},
   "outputs": [],
   "source": [
    "mc_binned = mc.mc_binned\n",
    "plt = sos.mc_plotter(mc_binned, m0_data_13co, m0_header_13co)\n",
    "plt.map_param('den', cmap='gist_rainbow', log=False, contour=True)"
   ]
  },
  {
   "cell_type": "markdown",
   "metadata": {},
   "source": [
    "## Campo magnético"
   ]
  },
  {
   "cell_type": "markdown",
   "metadata": {},
   "source": [
    "### Calculamos el campo magnético:"
   ]
  },
  {
   "cell_type": "code",
   "execution_count": null,
   "metadata": {},
   "outputs": [],
   "source": [
    "mc.get_mag_field('13CO')"
   ]
  },
  {
   "cell_type": "markdown",
   "metadata": {},
   "source": [
    "### Graficamos el campo magnético:"
   ]
  },
  {
   "cell_type": "code",
   "execution_count": null,
   "metadata": {},
   "outputs": [],
   "source": [
    "# Graficar resultados\n",
    "mc_bins = mc.mc_binned\n",
    "plt = sos.mc_plotter(mc_bins, m0_data_13co, m0_header_13co)\n",
    "plt.map_param('B', cmap='gist_rainbow', log=False, contour=True)"
   ]
  },
  {
   "cell_type": "code",
   "execution_count": null,
   "metadata": {},
   "outputs": [],
   "source": []
  }
 ],
 "metadata": {
  "kernelspec": {
   "display_name": "Python 3",
   "language": "python",
   "name": "python3"
  },
  "language_info": {
   "codemirror_mode": {
    "name": "ipython",
    "version": 3
   },
   "file_extension": ".py",
   "mimetype": "text/x-python",
   "name": "python",
   "nbconvert_exporter": "python",
   "pygments_lexer": "ipython3",
   "version": "3.8.3"
  }
 },
 "nbformat": 4,
 "nbformat_minor": 4
}
